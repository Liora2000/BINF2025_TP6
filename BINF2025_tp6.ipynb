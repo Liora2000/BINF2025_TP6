{
  "nbformat": 4,
  "nbformat_minor": 0,
  "metadata": {
    "colab": {
      "provenance": [],
      "include_colab_link": true
    },
    "kernelspec": {
      "name": "python3",
      "display_name": "Python 3"
    },
    "language_info": {
      "name": "python"
    }
  },
  "cells": [
    {
      "cell_type": "markdown",
      "metadata": {
        "id": "view-in-github",
        "colab_type": "text"
      },
      "source": [
        "<a href=\"https://colab.research.google.com/github/Liora2000/BINF2025_TP6/blob/main/BINF2025_tp6.ipynb\" target=\"_parent\"><img src=\"https://colab.research.google.com/assets/colab-badge.svg\" alt=\"Open In Colab\"/></a>"
      ]
    },
    {
      "cell_type": "markdown",
      "source": [
        "## BINF TP6 : bases de données métaboliques et rdkit\n",
        "\n",
        "Les bases de données métaboliques stockent des informations sur les composés et réaction chimiques présentes chez différents organismes ainsi que les enzymes associées. rdkit est une bibliothèque de manipulation de composés et réactions chimiques.\n",
        "\n",
        "Installons rdkit :"
      ],
      "metadata": {
        "id": "x3gbtL4QjAil"
      }
    },
    {
      "cell_type": "code",
      "source": [
        "!pip install rdkit"
      ],
      "metadata": {
        "id": "N5fiDGAcmwW1",
        "outputId": "74c6b2fa-5dd7-41e0-aedd-8b821d38f377",
        "colab": {
          "base_uri": "https://localhost:8080/"
        }
      },
      "execution_count": 1,
      "outputs": [
        {
          "output_type": "stream",
          "name": "stdout",
          "text": [
            "Collecting rdkit\n",
            "  Downloading rdkit-2025.3.2-cp311-cp311-manylinux_2_28_x86_64.whl.metadata (4.0 kB)\n",
            "Requirement already satisfied: numpy in /usr/local/lib/python3.11/dist-packages (from rdkit) (2.0.2)\n",
            "Requirement already satisfied: Pillow in /usr/local/lib/python3.11/dist-packages (from rdkit) (11.2.1)\n",
            "Downloading rdkit-2025.3.2-cp311-cp311-manylinux_2_28_x86_64.whl (35.2 MB)\n",
            "\u001b[2K   \u001b[90m━━━━━━━━━━━━━━━━━━━━━━━━━━━━━━━━━━━━━━━━\u001b[0m \u001b[32m35.2/35.2 MB\u001b[0m \u001b[31m17.3 MB/s\u001b[0m eta \u001b[36m0:00:00\u001b[0m\n",
            "\u001b[?25hInstalling collected packages: rdkit\n",
            "Successfully installed rdkit-2025.3.2\n"
          ]
        }
      ]
    },
    {
      "cell_type": "markdown",
      "source": [
        "## Exercice 1 : Base de données Kegg et visualisation du cycle TCA\n",
        "\n",
        "[https://www.genome.jp/kegg/](https://www.genome.jp/kegg/)\n",
        "\n",
        "1. Utilisez le module «pathway » de la base de donnes Kegg pour visualiser le cycle de l’acide citrique. Appelé en anglais : TCA cycle, citric acid cycle ou encore Krebs cycle.\n",
        "2. Combien de reactions contient-il ? On s'intéresse uniquement aux réactions du cycle contenant l'acide citrique."
      ],
      "metadata": {
        "id": "qgWmNE_-mun5"
      }
    },
    {
      "cell_type": "markdown",
      "source": [
        "9"
      ],
      "metadata": {
        "id": "xReGWi0G5Euo"
      }
    },
    {
      "cell_type": "markdown",
      "source": [
        "3. Quels sont les identifiants EC (E.C numbers) associes à chacune de ces réactions."
      ],
      "metadata": {
        "id": "fr0mAXml5Dlv"
      }
    },
    {
      "cell_type": "markdown",
      "source": [
        "*   4.2.1.3\n",
        "*   1.1.1.42\n",
        "*   1.2.4.2\n",
        "*   2.3.1.61\n",
        "*   6.2.1.4\n",
        "*   1.3.2.4\n",
        "*   4.2.1.2\n",
        "*   1.1.1.37\n",
        "*   2.3.3.1\n",
        "\n",
        "\n",
        "\n",
        "\n",
        "\n",
        "\n",
        "\n",
        "\n",
        "\n",
        "\n",
        "\n",
        "\n",
        "\n",
        "\n",
        "\n",
        "\n",
        "\n",
        "\n",
        "\n",
        "\n"
      ],
      "metadata": {
        "id": "zzZt_NEm5Jxu"
      }
    },
    {
      "cell_type": "markdown",
      "source": [
        "4. Pourquoi certains identifiants EC sont-ils en double ?"
      ],
      "metadata": {
        "id": "9Ccrjixj5LI5"
      }
    },
    {
      "cell_type": "markdown",
      "source": [
        "Ces identifiants EC sont des enzymes chacune responsable de plusieurs réactions dont les produits peuvent produire les mêmes autres molécules."
      ],
      "metadata": {
        "id": "H1H4CqSc5OJw"
      }
    },
    {
      "cell_type": "markdown",
      "source": [
        "5. Qu’observez-vous de plus à propos de ces EC numbers ?"
      ],
      "metadata": {
        "id": "OSXnNhXJ5Q2r"
      }
    },
    {
      "cell_type": "markdown",
      "source": [
        "Votre réponse ici."
      ],
      "metadata": {
        "id": "jVgDoP7k5SnX"
      }
    },
    {
      "cell_type": "markdown",
      "source": [
        "Malheureusement la base de données KEGG ne peut pas être téléchargée gratuitement, nous allons donc changer de base de données."
      ],
      "metadata": {
        "id": "9_YKyLxU5UCx"
      }
    },
    {
      "cell_type": "markdown",
      "source": [
        "## Exercice 2 : Base de données Rhea et visualisation du cycle TCA\n",
        "\n",
        "[https://www.rhea-db.org/](https://www.rhea-db.org/)\n",
        "\n",
        "A L’inverse, la base de données Rhea est téléchargeable, mais elle ne fournit pas de visualisation des voies métaboliques. C’est pour ça que l’on a fait la partie précédente avec KEGG.\n",
        "\n",
        "\n",
        "1. Trouvez les IDs Rhea associés aux EC numbers extraits dans l'exercice précédent. Faites attention à choisir des réactions unidirectionnelles. Si vous avez l’id d’une réaction bidirectionnelle, id+1 et id+2 devraient correspondre aux réactions décomposées dans chaque sens. Faites attention au sens de réaction."
      ],
      "metadata": {
        "id": "Gpbi8aO6kRFl"
      }
    },
    {
      "cell_type": "markdown",
      "source": [
        "Votre réponse ici"
      ],
      "metadata": {
        "id": "HnDqzpRL5qgU"
      }
    },
    {
      "cell_type": "markdown",
      "source": [
        "2. Téléchargez Rhea, choisissez le format « rhea-reaction-smiles.tsv ». Quel est ce format ?"
      ],
      "metadata": {
        "id": "eanm0mpo5raX"
      }
    },
    {
      "cell_type": "markdown",
      "source": [
        "Votre réponse ici."
      ],
      "metadata": {
        "id": "FDpE8Bdq5z6M"
      }
    },
    {
      "cell_type": "markdown",
      "source": [
        "3. Chargez ce fichier via RdKit via \"rdChemReactions.ReactionFromSmarts\" du module rdkit.Chem"
      ],
      "metadata": {
        "id": "I8SnIgek50oA"
      }
    },
    {
      "cell_type": "code",
      "execution_count": null,
      "metadata": {
        "id": "guPceFEci_lI"
      },
      "outputs": [],
      "source": [
        "print(\"Votre code ici !!\")"
      ]
    },
    {
      "cell_type": "markdown",
      "source": [
        "4. Cherchez dans ces réactions celles associées au cycle TCA en vous basant sur l’ID Rhea."
      ],
      "metadata": {
        "id": "qXWJXyzsk-AE"
      }
    },
    {
      "cell_type": "code",
      "source": [
        "print(\"votre code ici !!\")"
      ],
      "metadata": {
        "id": "g0wWVKGwlDFF"
      },
      "execution_count": null,
      "outputs": []
    },
    {
      "cell_type": "markdown",
      "source": [
        "5. Affichez les réactions du cycle TCA, vous pouvez utiliser la fonction display de « IPython.display » sur une réaction, vous devez aussi importer\n",
        "\n",
        "« from rdkit.Chem.Draw import IPythonConsole »"
      ],
      "metadata": {
        "id": "dnysSbI5lF_b"
      }
    },
    {
      "cell_type": "code",
      "source": [
        "print(\"Votre code ici !!\")"
      ],
      "metadata": {
        "id": "JU_LNBUNlG4r"
      },
      "execution_count": null,
      "outputs": []
    },
    {
      "cell_type": "markdown",
      "source": [
        "\n",
        "## Exercice 3 : RdKit\n",
        "\n",
        "1.\tPour se familiariser avec Rdkit et le format MOL nous allons faire un parser de MOL.\n",
        "Ecrire la fonction load_mol(fname: str) -> Chem.Mol qui prend un fichier mol en entrée et retourne la molécule associée au format Mol de RdKit.\n",
        "Utilisez Chem.Mol, Chem.EditableMol, m.AddAtom, m.AddBond"
      ],
      "metadata": {
        "id": "wcQSq6_Xly5B"
      }
    },
    {
      "cell_type": "code",
      "source": [
        "print(\"votre code ici !!\")"
      ],
      "metadata": {
        "id": "566Svv_Ul6ob"
      },
      "execution_count": null,
      "outputs": []
    },
    {
      "cell_type": "markdown",
      "source": [
        "\n",
        "2.\tEcrire la fonction raw_formula(m: Chem.Mol) -> str qui retourne la formule brute de la molécule m.\n",
        "Utilisez GetAtoms sur une molécule pour récupérer les listes des atomes et GetSymbol sur un atome pour récupérer son symbole."
      ],
      "metadata": {
        "id": "4hQPPg09l8ca"
      }
    },
    {
      "cell_type": "code",
      "source": [
        "print(\"votre code ici !!\")"
      ],
      "metadata": {
        "id": "Oj_ZEr5RmAVW"
      },
      "execution_count": null,
      "outputs": []
    },
    {
      "cell_type": "markdown",
      "source": [
        "3.\tRécupérez les smiles et inchi de la molécule \"citrulline\" à partir des bases de données Rhea et pubchem. Puis :\n",
        "\n",
        "* Comparez les Smiles ;\n",
        "* Chargez les molécules dans rdkit via « Chem.MolFromSmiles» et comparez-les ;\n",
        "* Comparez les formules brutes généré par votre fonction précédente ;\n",
        "* Comparez les smiles générés par « Chem.MolToSmiles » ;\n",
        "* Testez la méthode « m.HasSubstructMatch(m2) »."
      ],
      "metadata": {
        "id": "jHu1nW3-mB6f"
      }
    },
    {
      "cell_type": "code",
      "source": [
        "print(\"votre code ici !!\")"
      ],
      "metadata": {
        "id": "A0Fi03eJmEHa"
      },
      "execution_count": null,
      "outputs": []
    },
    {
      "cell_type": "markdown",
      "source": [
        "4.\tA quelle molécule correspond ce smiles :\n",
        "\n",
        "C[NH2+] [C@H] 1[C@H] (O) [C@@H] (O) [C@H] (CO) O[C@H] 1O[C@H] 1[C@@H] (O[C@@H] (C) [C@] 1(O) CO) O[C@H] 1[C@H] (O) [C@@H] (OP([O- ] ) ([O- ] ) =O) [C@H] (NC(N) =[NH2+] ) [C@@H] (O) [C@@H] 1NC(N) =[NH2+]"
      ],
      "metadata": {
        "id": "-Q49JEHDmFxC"
      }
    },
    {
      "cell_type": "markdown",
      "source": [
        "votre réponse ici!"
      ],
      "metadata": {
        "id": "BbdL_9JsmHCJ"
      }
    }
  ]
}